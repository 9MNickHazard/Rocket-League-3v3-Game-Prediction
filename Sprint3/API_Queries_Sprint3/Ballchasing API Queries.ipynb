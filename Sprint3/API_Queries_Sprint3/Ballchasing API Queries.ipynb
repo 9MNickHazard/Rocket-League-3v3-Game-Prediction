{
 "cells": [
  {
   "cell_type": "markdown",
   "id": "dcb8f8e7",
   "metadata": {},
   "source": [
    "# Querying ballchasing.com API\n",
    "ballchasing.com is a data aggregation website for Rocket League, that collects and stores data from hundreds of thousands of uploaded games from players."
   ]
  },
  {
   "cell_type": "code",
   "execution_count": 22,
   "id": "8f240c06",
   "metadata": {},
   "outputs": [],
   "source": [
    "import pandas as pd\n",
    "import numpy as np\n",
    "import requests\n",
    "import json\n",
    "import csv\n",
    "from rich.progress import Progress"
   ]
  },
  {
   "cell_type": "code",
   "execution_count": 3,
   "id": "2e922b89",
   "metadata": {},
   "outputs": [],
   "source": [
    "pd.set_option('display.max_columns', None)\n",
    "pd.set_option('display.max_rows', 100)\n",
    "# pd.set_option('display.max_colwidth', None)"
   ]
  },
  {
   "cell_type": "markdown",
   "id": "220ac69f",
   "metadata": {},
   "source": [
    "First I queried the API for replay IDs, which is how I will later use the GET Replay(ID) function from the API documentation to get individual stats from each game.\n",
    "\n",
    "For the paramaters, I choose to get ranked standard games - ranked because people take ranked games more seriously than casual ones, and standard in Rocket League just means the 3v3 game mode which is the most popular and format for the world championships. 1v1 and 2v2 also exist but are not the main gamemode.\n",
    "\n",
    "I got a list of 100,000 replays, but due to how long the next query took, I went with only 50,000 games for this initial modeling."
   ]
  },
  {
   "cell_type": "code",
   "execution_count": 9,
   "id": "7c140474",
   "metadata": {},
   "outputs": [
    {
     "name": "stdout",
     "output_type": "stream",
     "text": [
      "Total unique replay IDs collected: 100000\n"
     ]
    }
   ],
   "source": [
    "headers = {\n",
    "    'Authorization': 'V3xqFi9mOZONpvx4SKm6bRrYFxGMCxQ8LECZwMJM'\n",
    "}\n",
    "\n",
    "\n",
    "params = {\n",
    "    'playlist': 'ranked-standard',\n",
    "    'season': 'f13',\n",
    "    'count': 200\n",
    "}\n",
    "\n",
    "replay_ids = set()\n",
    "url = 'https://ballchasing.com/api/replays'\n",
    "\n",
    "while len(replay_ids) < 100000:\n",
    "    response = requests.get(url, headers=headers, params=params)\n",
    "    \n",
    "    if response.status_code == 200:\n",
    "        data = response.json()\n",
    "        replay_ids.update([replay['id'] for replay in data['list']])\n",
    "\n",
    "        next_page_url = data.get('next')\n",
    "        if next_page_url:\n",
    "            url = next_page_url\n",
    "        else:\n",
    "            print(\"No more pages available.\")\n",
    "            break\n",
    "    else:\n",
    "        print(\"Failed to fetch data:\", response.status_code)\n",
    "        break\n",
    "\n",
    "print(\"Total unique replay IDs collected:\", len(replay_ids))"
   ]
  },
  {
   "cell_type": "markdown",
   "id": "87fcaa75",
   "metadata": {
    "scrolled": true
   },
   "source": [
    "The two code snippets below are just for saving and loading the list of queried replay IDs into a csv file for later use"
   ]
  },
  {
   "cell_type": "code",
   "execution_count": 17,
   "id": "9a1b6713",
   "metadata": {},
   "outputs": [],
   "source": [
    "# save list as csv file\n",
    "\n",
    "with open('C:/Users/nickh/Desktop/BrainStation Course/Capstone Project RL/replay_ids_list.csv', 'w') as file:\n",
    "    for replay in replay_ids_list:\n",
    "        file.write(replay + '\\n')"
   ]
  },
  {
   "cell_type": "code",
   "execution_count": 18,
   "id": "722fe816",
   "metadata": {},
   "outputs": [],
   "source": [
    "# load list \n",
    "\n",
    "replay_ids_list = []\n",
    "\n",
    "with open('C:/Users/nickh/Desktop/BrainStation Course/Capstone Project RL/replay_ids_list.csv', 'r') as file:\n",
    "    for line in file:\n",
    "        replay_ids_list.append(line.strip())\n"
   ]
  },
  {
   "cell_type": "markdown",
   "id": "5c428310",
   "metadata": {},
   "source": [
    "I am using a new python library, rich, here to add a progress bar to the API so I can have a better idea of when these queries will end, as each query took over 5 hours. This was ran multiple times, as there were errors that occurred and would terminate the entire script, so I eventually added the block of code at the bottom, that wrote to a json file every 1000 games. I probably ran this query 5 or 6 times, due to troubleshooting and errors and the like.\n",
    "\n",
    "This code gets all the data from the API for each replay ID, and then in the EDA and Modeling Jupyter Notebook, I load, loop through the data to get what I want, flatten it and turn it into a dataframe. I attempted to format the data while querying it and decided to seperate those tasks, as it was taking way too long to do all at once."
   ]
  },
  {
   "cell_type": "code",
   "execution_count": 13,
   "id": "f3229107",
   "metadata": {},
   "outputs": [],
   "source": [
    "from rich import progress as rp"
   ]
  },
  {
   "cell_type": "code",
   "execution_count": 21,
   "id": "fa119659",
   "metadata": {
    "scrolled": false
   },
   "outputs": [
    {
     "data": {
      "application/vnd.jupyter.widget-view+json": {
       "model_id": "377acfa34acb42d8ad9a26ea6d8111bd",
       "version_major": 2,
       "version_minor": 0
      },
      "text/plain": [
       "Output()"
      ]
     },
     "metadata": {},
     "output_type": "display_data"
    },
    {
     "data": {
      "text/html": [
       "<pre style=\"white-space:pre;overflow-x:auto;line-height:normal;font-family:Menlo,'DejaVu Sans Mono',consolas,'Courier New',monospace\">just wrote to json file {count}\n",
       "</pre>\n"
      ],
      "text/plain": [
       "just wrote to json file {count}\n"
      ]
     },
     "metadata": {},
     "output_type": "display_data"
    },
    {
     "data": {
      "text/html": [
       "<pre style=\"white-space:pre;overflow-x:auto;line-height:normal;font-family:Menlo,'DejaVu Sans Mono',consolas,'Courier New',monospace\">just wrote to json file {count}\n",
       "</pre>\n"
      ],
      "text/plain": [
       "just wrote to json file {count}\n"
      ]
     },
     "metadata": {},
     "output_type": "display_data"
    },
    {
     "data": {
      "text/html": [
       "<pre style=\"white-space:pre;overflow-x:auto;line-height:normal;font-family:Menlo,'DejaVu Sans Mono',consolas,'Courier New',monospace\">just wrote to json file {count}\n",
       "</pre>\n"
      ],
      "text/plain": [
       "just wrote to json file {count}\n"
      ]
     },
     "metadata": {},
     "output_type": "display_data"
    },
    {
     "data": {
      "text/html": [
       "<pre style=\"white-space:pre;overflow-x:auto;line-height:normal;font-family:Menlo,'DejaVu Sans Mono',consolas,'Courier New',monospace\">just wrote to json file {count}\n",
       "</pre>\n"
      ],
      "text/plain": [
       "just wrote to json file {count}\n"
      ]
     },
     "metadata": {},
     "output_type": "display_data"
    },
    {
     "data": {
      "text/html": [
       "<pre style=\"white-space:pre;overflow-x:auto;line-height:normal;font-family:Menlo,'DejaVu Sans Mono',consolas,'Courier New',monospace\">just wrote to json file {count}\n",
       "</pre>\n"
      ],
      "text/plain": [
       "just wrote to json file {count}\n"
      ]
     },
     "metadata": {},
     "output_type": "display_data"
    },
    {
     "data": {
      "text/html": [
       "<pre style=\"white-space:pre;overflow-x:auto;line-height:normal;font-family:Menlo,'DejaVu Sans Mono',consolas,'Courier New',monospace\">just wrote to json file {count}\n",
       "</pre>\n"
      ],
      "text/plain": [
       "just wrote to json file {count}\n"
      ]
     },
     "metadata": {},
     "output_type": "display_data"
    },
    {
     "data": {
      "text/html": [
       "<pre style=\"white-space:pre;overflow-x:auto;line-height:normal;font-family:Menlo,'DejaVu Sans Mono',consolas,'Courier New',monospace\">just wrote to json file {count}\n",
       "</pre>\n"
      ],
      "text/plain": [
       "just wrote to json file {count}\n"
      ]
     },
     "metadata": {},
     "output_type": "display_data"
    },
    {
     "data": {
      "text/html": [
       "<pre style=\"white-space:pre;overflow-x:auto;line-height:normal;font-family:Menlo,'DejaVu Sans Mono',consolas,'Courier New',monospace\">just wrote to json file {count}\n",
       "</pre>\n"
      ],
      "text/plain": [
       "just wrote to json file {count}\n"
      ]
     },
     "metadata": {},
     "output_type": "display_data"
    },
    {
     "data": {
      "text/html": [
       "<pre style=\"white-space:pre;overflow-x:auto;line-height:normal;font-family:Menlo,'DejaVu Sans Mono',consolas,'Courier New',monospace\">just wrote to json file {count}\n",
       "</pre>\n"
      ],
      "text/plain": [
       "just wrote to json file {count}\n"
      ]
     },
     "metadata": {},
     "output_type": "display_data"
    },
    {
     "data": {
      "text/html": [
       "<pre style=\"white-space:pre;overflow-x:auto;line-height:normal;font-family:Menlo,'DejaVu Sans Mono',consolas,'Courier New',monospace\">just wrote to json file {count}\n",
       "</pre>\n"
      ],
      "text/plain": [
       "just wrote to json file {count}\n"
      ]
     },
     "metadata": {},
     "output_type": "display_data"
    },
    {
     "data": {
      "text/html": [
       "<pre style=\"white-space:pre;overflow-x:auto;line-height:normal;font-family:Menlo,'DejaVu Sans Mono',consolas,'Courier New',monospace\">just wrote to json file {count}\n",
       "</pre>\n"
      ],
      "text/plain": [
       "just wrote to json file {count}\n"
      ]
     },
     "metadata": {},
     "output_type": "display_data"
    },
    {
     "data": {
      "text/html": [
       "<pre style=\"white-space:pre;overflow-x:auto;line-height:normal;font-family:Menlo,'DejaVu Sans Mono',consolas,'Courier New',monospace\">just wrote to json file {count}\n",
       "</pre>\n"
      ],
      "text/plain": [
       "just wrote to json file {count}\n"
      ]
     },
     "metadata": {},
     "output_type": "display_data"
    },
    {
     "data": {
      "text/html": [
       "<pre style=\"white-space:pre;overflow-x:auto;line-height:normal;font-family:Menlo,'DejaVu Sans Mono',consolas,'Courier New',monospace\">just wrote to json file {count}\n",
       "</pre>\n"
      ],
      "text/plain": [
       "just wrote to json file {count}\n"
      ]
     },
     "metadata": {},
     "output_type": "display_data"
    },
    {
     "data": {
      "text/html": [
       "<pre style=\"white-space:pre;overflow-x:auto;line-height:normal;font-family:Menlo,'DejaVu Sans Mono',consolas,'Courier New',monospace\">just wrote to json file {count}\n",
       "</pre>\n"
      ],
      "text/plain": [
       "just wrote to json file {count}\n"
      ]
     },
     "metadata": {},
     "output_type": "display_data"
    },
    {
     "data": {
      "text/html": [
       "<pre style=\"white-space:pre;overflow-x:auto;line-height:normal;font-family:Menlo,'DejaVu Sans Mono',consolas,'Courier New',monospace\">just wrote to json file {count}\n",
       "</pre>\n"
      ],
      "text/plain": [
       "just wrote to json file {count}\n"
      ]
     },
     "metadata": {},
     "output_type": "display_data"
    },
    {
     "data": {
      "text/html": [
       "<pre style=\"white-space:pre;overflow-x:auto;line-height:normal;font-family:Menlo,'DejaVu Sans Mono',consolas,'Courier New',monospace\"></pre>\n"
      ],
      "text/plain": []
     },
     "metadata": {},
     "output_type": "display_data"
    },
    {
     "data": {
      "text/html": [
       "<pre style=\"white-space:pre;overflow-x:auto;line-height:normal;font-family:Menlo,'DejaVu Sans Mono',consolas,'Courier New',monospace\">\n",
       "</pre>\n"
      ],
      "text/plain": [
       "\n"
      ]
     },
     "metadata": {},
     "output_type": "display_data"
    }
   ],
   "source": [
    "headers = {\n",
    "    'Authorization': 'V3xqFi9mOZONpvx4SKm6bRrYFxGMCxQ8LECZwMJM'\n",
    "}\n",
    "\n",
    "list_of_replay_ids = replay_ids_list35000to50000 \n",
    "all_replays_data = []\n",
    "\n",
    "def save_data_to_json(data, filename='C:/Users/nickh/Desktop/BrainStation Course/Capstone Project RL/AllData35000to50000NoProcessing.json'):\n",
    "    with open(filename, 'a') as file:\n",
    "        json.dump(data, file)\n",
    "        file.write('\\n')\n",
    "        \n",
    "        \n",
    "with rp.Progress() as progress:\n",
    "    completed = progress.add_task('She movinnn', total=len(list_of_replay_ids)) # rich library code to intialize a progress bar equal to the length of the list of replay IDs\n",
    "    for index, replay_id in enumerate(list_of_replay_ids):\n",
    "        replay_url = f'https://ballchasing.com/api/replays/{replay_id}'\n",
    "        response = requests.get(replay_url, headers=headers)\n",
    "\n",
    "        if response.status_code == 200: # the status code for the API for a successfull query was 200\n",
    "            replay_data = response.json()\n",
    "            all_replays_data.append(replay_data)\n",
    "            progress.advance(completed) # this is where rich updates the progress bar in the loop\n",
    "            \n",
    "            # periodically saving to a json file in the case of an unexpected error\n",
    "            if (index + 1) % 1000 == 0 or (index + 1) == len(list_of_replay_ids):\n",
    "                save_data_to_json(all_replays_data)\n",
    "                print('just wrote to json file')\n",
    "                all_replays_data = []\n",
    "        else:\n",
    "            print(f\"FAILURE {replay_id}: {response.status_code}\")\n",
    "\n"
   ]
  },
  {
   "cell_type": "code",
   "execution_count": null,
   "id": "7de7d1bf",
   "metadata": {},
   "outputs": [],
   "source": [
    "\n"
   ]
  },
  {
   "cell_type": "code",
   "execution_count": null,
   "id": "6201ada6",
   "metadata": {},
   "outputs": [],
   "source": []
  },
  {
   "cell_type": "code",
   "execution_count": null,
   "id": "ec02d974",
   "metadata": {},
   "outputs": [],
   "source": []
  },
  {
   "cell_type": "code",
   "execution_count": null,
   "id": "8071e05d",
   "metadata": {},
   "outputs": [],
   "source": []
  },
  {
   "cell_type": "code",
   "execution_count": null,
   "id": "db7ba51f",
   "metadata": {},
   "outputs": [],
   "source": []
  },
  {
   "cell_type": "code",
   "execution_count": null,
   "id": "2b482122",
   "metadata": {},
   "outputs": [],
   "source": []
  },
  {
   "cell_type": "code",
   "execution_count": 25,
   "id": "a7313c13",
   "metadata": {},
   "outputs": [],
   "source": []
  },
  {
   "cell_type": "code",
   "execution_count": null,
   "id": "de8e987e",
   "metadata": {},
   "outputs": [],
   "source": []
  },
  {
   "cell_type": "code",
   "execution_count": 27,
   "id": "8d209b05",
   "metadata": {},
   "outputs": [],
   "source": []
  },
  {
   "cell_type": "code",
   "execution_count": null,
   "id": "436aef01",
   "metadata": {},
   "outputs": [],
   "source": []
  },
  {
   "cell_type": "code",
   "execution_count": null,
   "id": "2dbecdc0",
   "metadata": {},
   "outputs": [],
   "source": []
  },
  {
   "cell_type": "code",
   "execution_count": null,
   "id": "c51942a4",
   "metadata": {},
   "outputs": [],
   "source": []
  },
  {
   "cell_type": "code",
   "execution_count": null,
   "id": "75446120",
   "metadata": {},
   "outputs": [],
   "source": []
  },
  {
   "cell_type": "code",
   "execution_count": null,
   "id": "89d3b7e5",
   "metadata": {},
   "outputs": [],
   "source": []
  },
  {
   "cell_type": "code",
   "execution_count": null,
   "id": "ed5460a5",
   "metadata": {},
   "outputs": [],
   "source": []
  },
  {
   "cell_type": "code",
   "execution_count": null,
   "id": "d2322986",
   "metadata": {},
   "outputs": [],
   "source": []
  },
  {
   "cell_type": "code",
   "execution_count": null,
   "id": "64e353a0",
   "metadata": {},
   "outputs": [],
   "source": []
  },
  {
   "cell_type": "code",
   "execution_count": null,
   "id": "d7ea8ab1",
   "metadata": {},
   "outputs": [],
   "source": []
  },
  {
   "cell_type": "code",
   "execution_count": null,
   "id": "1a6bc254",
   "metadata": {},
   "outputs": [],
   "source": []
  },
  {
   "cell_type": "code",
   "execution_count": null,
   "id": "dcf23e52",
   "metadata": {},
   "outputs": [],
   "source": []
  },
  {
   "cell_type": "code",
   "execution_count": null,
   "id": "0c72b8f2",
   "metadata": {},
   "outputs": [],
   "source": []
  },
  {
   "cell_type": "code",
   "execution_count": null,
   "id": "57164039",
   "metadata": {},
   "outputs": [],
   "source": []
  },
  {
   "cell_type": "code",
   "execution_count": null,
   "id": "d4b8893c",
   "metadata": {},
   "outputs": [],
   "source": []
  },
  {
   "cell_type": "code",
   "execution_count": null,
   "id": "defe017a",
   "metadata": {},
   "outputs": [],
   "source": []
  },
  {
   "cell_type": "code",
   "execution_count": null,
   "id": "1b2f893f",
   "metadata": {},
   "outputs": [],
   "source": []
  },
  {
   "cell_type": "code",
   "execution_count": null,
   "id": "6a394d3e",
   "metadata": {},
   "outputs": [],
   "source": []
  },
  {
   "cell_type": "code",
   "execution_count": null,
   "id": "e709347f",
   "metadata": {},
   "outputs": [],
   "source": []
  }
 ],
 "metadata": {
  "kernelspec": {
   "display_name": "Python 3 (ipykernel)",
   "language": "python",
   "name": "python3"
  },
  "language_info": {
   "codemirror_mode": {
    "name": "ipython",
    "version": 3
   },
   "file_extension": ".py",
   "mimetype": "text/x-python",
   "name": "python",
   "nbconvert_exporter": "python",
   "pygments_lexer": "ipython3",
   "version": "3.11.5"
  }
 },
 "nbformat": 4,
 "nbformat_minor": 5
}
